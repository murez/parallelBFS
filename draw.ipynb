{
 "cells": [
  {
   "cell_type": "code",
   "execution_count": 2,
   "metadata": {},
   "outputs": [],
   "source": [
    "import os\n",
    "import sys\n",
    "import glob\n",
    "import matplotlib.pyplot as plt\n",
    "import numpy as np"
   ]
  },
  {
   "cell_type": "code",
   "execution_count": 3,
   "metadata": {},
   "outputs": [
    {
     "data": {
      "text/plain": [
       "[]"
      ]
     },
     "execution_count": 3,
     "metadata": {},
     "output_type": "execute_result"
    }
   ],
   "source": [
    "outfiles = glob.glob(\"/home/murez/out/*.out\")\n",
    "\n",
    "outfiles"
   ]
  },
  {
   "cell_type": "code",
   "execution_count": 10,
   "metadata": {},
   "outputs": [],
   "source": [
    "titlename_dict = {'/home/murez/out/rmat1_4.out':\"rmat1_top5\",\n",
    " '/home/murez/out/rmat3_4.out':\"rmat3_top5\",\n",
    " '/home/murez/out/web-Stanford.out':\"web-Stanford\",\n",
    " '/home/murez/out/rmat2_4.out':\"rmat2_top5\",\n",
    " '/home/murez/out/roadNet-CA.out':\"roadNet-CA\",\n",
    " '/home/murez/out/com-orkut.out':\"com-orkut\",\n",
    " '/home/murez/out/soc-LiveJournal1.out':\"soc-LiveJournal1\",\n",
    " '/home/murez/out/rmat1.out':\"rmat1\",\n",
    " '/home/murez/out/rmat3.out':\"rmat3\",\n",
    " '/home/murez/out/rmat2.out':\"rmat2\"}\n",
    "\n",
    "for i in range(len(outfiles)):\n",
    "    try:\n",
    "        testfile = outfiles[i]\n",
    "        threads = []\n",
    "        m = {}\n",
    "        timer = {}\n",
    "        with open(testfile, 'r') as f:\n",
    "            # thread = 0\n",
    "            for line in f.readlines():\n",
    "                if \"omp_thread\" in line:\n",
    "                    thread = int(line.split(':')[-1])\n",
    "                    threads.append(thread)\n",
    "                if \"MTEPS\" in line and \"Avg\" not in line:\n",
    "                    mteps = float(line.split(':')[-1])\n",
    "                    if thread not in m.keys():\n",
    "                        m[thread] = [mteps]\n",
    "                    else:\n",
    "                        m[thread].append(mteps)\n",
    "                if \"Trial Time\" in line:\n",
    "                    t = float(line.split(':')[-1])\n",
    "                    if thread not in timer.keys():\n",
    "                        timer[thread] = [t]\n",
    "                    else:\n",
    "                        timer[thread].append(t)\n",
    "\n",
    "        d = {}\n",
    "\n",
    "        for thread in m.keys():\n",
    "            d[thread] = []\n",
    "            for i in range(len(m[thread])):\n",
    "                if timer[thread][i]>=0.001 and m[thread][i] >=5:\n",
    "                    d[thread].append((timer[thread][i],m[thread][i]))\n",
    "\n",
    "        x = np.random.randn(100, 8)\n",
    "\n",
    "        all_timelist = []\n",
    "        threadlist = np.array(list(d.keys()))\n",
    "        print(threadlist)\n",
    "        for thread in d.keys():\n",
    "            all_timelist.append([x[1] for x in d[thread]])\n",
    "\n",
    "        all_timelist = np.array(all_timelist)\n",
    "\n",
    "        timelist_min = all_timelist.min(1)\n",
    "\n",
    "        timelist_max = all_timelist.max(1)\n",
    "\n",
    "        timelist_avg = all_timelist.mean(1)\n",
    "\n",
    "        timelist_std = all_timelist.std(1)\n",
    "\n",
    "\n",
    "            # mtepslist = [x[1] for x in d[thread]]\n",
    "        plt.errorbar(threadlist, timelist_avg, timelist_std, fmt='ok', lw=3)\n",
    "        plt.errorbar(threadlist, timelist_avg, [timelist_avg - timelist_min, timelist_max -     timelist_avg],\n",
    "                     fmt='.k', ecolor='gray', lw=1)\n",
    "        plt.plot(threadlist, timelist_avg)\n",
    "        plt.xlabel(\"cores\")\n",
    "        plt.ylabel(\"MTEPS\")\n",
    "        plt.title(titlename_dict[testfile])\n",
    "        file_name = testfile.split('.')[0]+'.MTEPS.png'\n",
    "\n",
    "        plt.savefig(file_name)\n",
    "        plt.cla()\n",
    "        plt.clf()\n",
    "    except:\n",
    "        pass"
   ]
  }
 ],
 "metadata": {
  "interpreter": {
   "hash": "ec92373eb85d7e85c22f55db683c083854f1ea57bbead13cebfc370924f2b270"
  },
  "kernelspec": {
   "display_name": "Python 3.9.7 64-bit ('base': conda)",
   "language": "python",
   "name": "python3"
  },
  "language_info": {
   "codemirror_mode": {
    "name": "ipython",
    "version": 3
   },
   "file_extension": ".py",
   "mimetype": "text/x-python",
   "name": "python",
   "nbconvert_exporter": "python",
   "pygments_lexer": "ipython3",
   "version": "3.9.7"
  },
  "orig_nbformat": 4
 },
 "nbformat": 4,
 "nbformat_minor": 2
}
